{
 "cells": [
  {
   "cell_type": "markdown",
   "id": "dfb3d3e1-7c56-440b-b7dc-7d32b66470d5",
   "metadata": {},
   "source": [
    "# Exploring the use of multiple dask clients and clusters\n",
    "\n",
    "This notebook addresses and provides examples for the use of dask with multiple clients (and multiple clusters).\n",
    "\n",
    "The point of departure is that is might be preferable to be able to employ multiple clients for workflows and/or have tasks spawn their own client to distribute subtasks"
   ]
  },
  {
   "cell_type": "markdown",
   "id": "0b7b99d7-85e0-48b1-8d54-f24225096e16",
   "metadata": {},
   "source": [
    "First we import the basic dask requirements"
   ]
  },
  {
   "cell_type": "code",
   "execution_count": null,
   "id": "29c9258b-784f-4b05-91c6-819d1e19944e",
   "metadata": {},
   "outputs": [],
   "source": [
    "from dask.distributed import Client, LocalCluster, default_client\n",
    "import dask\n"
   ]
  },
  {
   "cell_type": "markdown",
   "id": "9a6e6997-85e2-40f1-b762-0dc5c4b96567",
   "metadata": {},
   "source": [
    "Next, given the example of scaling sklearn workflows hat provide parallelism via joblib to dask clusters we import joblib and its backends contexts"
   ]
  },
  {
   "cell_type": "code",
   "execution_count": null,
   "id": "0a8cf960-17be-4b77-929d-485aa720f7de",
   "metadata": {},
   "outputs": [],
   "source": [
    "import joblib\n",
    "from joblib import parallel_backend, Parallel, delayed"
   ]
  },
  {
   "cell_type": "markdown",
   "id": "b08f3bf4-03bc-4392-a69d-257c08ba2703",
   "metadata": {},
   "source": [
    "### Specifiying a client for use with the joblib backend\n",
    "We will first consider the how to specify which client to use in combination with joblib\n",
    "Note: Using joblib in this fashion only works for workflows for which the data required fits in RAM, i.e. cpu bound workflows. Larger than memory data sets require a different approach (see also below)\n",
    "\n",
    "First we define a toy function/task to distribute via joblib"
   ]
  },
  {
   "cell_type": "code",
   "execution_count": null,
   "id": "bd7bd419-81d9-4d9e-9c34-0688304e0d73",
   "metadata": {},
   "outputs": [],
   "source": [
    "import time\n",
    "def slow_power(x, p):\n",
    "    time.sleep(1)\n",
    "    return x ** p"
   ]
  },
  {
   "cell_type": "markdown",
   "id": "36a79bf8-ca79-43a4-b985-677c4808e166",
   "metadata": {},
   "source": [
    "and subsequently create a local Dask cluster (using the local resources f the computer/work station) with dask.distributed. This is then also applicable to other remote clusters"
   ]
  },
  {
   "cell_type": "code",
   "execution_count": null,
   "id": "51a67f12-d3ca-49b0-9efa-2f6faf04ab1f",
   "metadata": {},
   "outputs": [],
   "source": [
    "cluster = LocalCluster()"
   ]
  },
  {
   "cell_type": "markdown",
   "id": "87c7b3d5-17b5-40c3-baeb-3337a86e3f46",
   "metadata": {},
   "source": [
    "We can then create a client connected to the cluster for use with joblib"
   ]
  },
  {
   "cell_type": "code",
   "execution_count": null,
   "id": "966fac91-d333-4de3-bfd2-dd84c8a8b01d",
   "metadata": {},
   "outputs": [],
   "source": [
    "jlclient = Client(cluster)"
   ]
  },
  {
   "cell_type": "markdown",
   "id": "3023678d-b972-423a-8abe-35cc12d1b129",
   "metadata": {},
   "source": [
    "and inspect the client"
   ]
  },
  {
   "cell_type": "code",
   "execution_count": null,
   "id": "5c586a75-aa06-4c11-adc0-bd6089af7a7a",
   "metadata": {},
   "outputs": [],
   "source": [
    "jlclient"
   ]
  },
  {
   "cell_type": "markdown",
   "id": "bd8eaa2c-fae5-432c-b9c5-93c4ce536104",
   "metadata": {},
   "source": [
    "Note: in this form jlclient registers as the default client/scheduler, so any unspecified call to dask will be handled by this client. This behaviour can be avoided by using `set_as_deafult=False` in the client instantiation."
   ]
  },
  {
   "cell_type": "code",
   "execution_count": null,
   "id": "36e36ff4-bce5-40c4-b8e6-3298fc910617",
   "metadata": {},
   "outputs": [],
   "source": [
    "jlclient2 = Client(cluster,set_as_default=False)"
   ]
  },
  {
   "cell_type": "code",
   "execution_count": null,
   "id": "b43e2e7a-84bd-4dbb-829e-883f0747600d",
   "metadata": {},
   "outputs": [],
   "source": [
    "jlclient2"
   ]
  },
  {
   "cell_type": "code",
   "execution_count": null,
   "id": "2150a26e-1328-4875-bcf4-a59e792c7e4e",
   "metadata": {},
   "outputs": [],
   "source": [
    "default_client()"
   ]
  },
  {
   "cell_type": "markdown",
   "id": "9f9f850c-bd3f-4ea7-9c9e-ebdc683ea70f",
   "metadata": {},
   "source": [
    "joblib can then be set to leverage the dask cluster as below.\n",
    "Note: configuration of the backend can aso be done using joblib `parallel_config`"
   ]
  },
  {
   "cell_type": "code",
   "execution_count": null,
   "id": "db6af344-33ce-45e3-b668-8289f13378e0",
   "metadata": {},
   "outputs": [],
   "source": [
    "with joblib.parallel_backend(backend=\"dask\",client=jlclient):\n",
    "    parallel = Parallel(verbose=100)\n",
    "    print(parallel([delayed(slow_power)(i, 5) for i in range(10)]))"
   ]
  },
  {
   "cell_type": "markdown",
   "id": "5a472271-4d5d-4656-88e0-b6eedf80fd70",
   "metadata": {},
   "source": [
    "For comparison below is the same call without specification of a client and with a specified, but non-existent client "
   ]
  },
  {
   "cell_type": "markdown",
   "id": "8afb2b35-4e50-493f-bd43-76025e6c5be6",
   "metadata": {},
   "source": [
    "client not specified, default client used"
   ]
  },
  {
   "cell_type": "code",
   "execution_count": null,
   "id": "420129eb-f3c7-41c7-9f5e-19875d532a48",
   "metadata": {},
   "outputs": [],
   "source": [
    "with joblib.parallel_backend(backend=\"dask\"):\n",
    "    parallel = Parallel(verbose=100)\n",
    "    print(parallel([delayed(slow_power)(i, 5) for i in range(10)]))"
   ]
  },
  {
   "cell_type": "markdown",
   "id": "927e702d-a980-4478-85e1-c84e721d7cc5",
   "metadata": {},
   "source": [
    "non-existent specified client (`dummy`)"
   ]
  },
  {
   "cell_type": "code",
   "execution_count": null,
   "id": "27d2d8c9-3a3e-45bc-a6ba-fbdf631034fe",
   "metadata": {},
   "outputs": [],
   "source": [
    "with joblib.parallel_backend(backend=\"dask\",client=dummy):\n",
    "    parallel = Parallel(verbose=100)\n",
    "    print(parallel([delayed(slow_power)(i, 5) for i in range(10)]))"
   ]
  },
  {
   "cell_type": "markdown",
   "id": "310c6a64-da1e-4877-9d5a-f9dfbc1d0354",
   "metadata": {},
   "source": [
    "Above we have considered the specification of the client to be used the joblib backend, demonstrating how this can be achived\n",
    "\n",
    "It is also relevant to consider this in more detail. The client objects above both represent connections to the SAME scheduler, i.e. that running the LocalCluster instance we initiated. In terms of references futures and distributed data/results this means thatas long as a reference to a futureor data exists in ANY of these clients the cluster/scheduler will maintain that.\n",
    "Similarly for higher order dask objects. (dask arrays, bags) the local representation is AUTOMATICALLY connected to the default client, so manipulations in the local representation are pushed to the clusters/schedulers representation via that client.  \n",
    "Avoiding this is problematic; while one could set all clients as non-defualt this would entail that the default scheduler is the local (thread) scheduler, which would cause issues unless ALL actions are explicity assigned to a specified scheduler.\n",
    "\n",
    "This behaviour is basically tied to the local process.\n",
    "\n",
    "In order to really split two steps of a dask workflow and enable two clients with no cross-talk to be used, each step should be lauched in a separate process (notebook). Data can then be shared between the clients by publishing to the cluster.\n",
    "\n",
    "Any advantge, however, is not entirely apparent."
   ]
  },
  {
   "cell_type": "markdown",
   "id": "4fdf87e9-d721-41de-ad96-db1be2b6182d",
   "metadata": {},
   "source": [
    "## Specifying the client for use with higher order Dask objects\n",
    "\n",
    "Nevertheless, it makes sense to consider how to specifiy the client for operations with higher order dask objects. For example, clients may connect to different clusters optimized for different parts of a workflow (this would require some for of serialization and loading of the interim result)"
   ]
  },
  {
   "cell_type": "markdown",
   "id": "bd5cb47e-f0db-4958-8edc-2d26deb845cf",
   "metadata": {},
   "source": [
    "This can be done in calling the compute functions:"
   ]
  },
  {
   "cell_type": "code",
   "execution_count": null,
   "id": "67ee7103-d5b1-4978-be70-85ce9dbe6e8c",
   "metadata": {},
   "outputs": [],
   "source": [
    "da.compute(client=jlclient)"
   ]
  },
  {
   "cell_type": "markdown",
   "id": "ec9ad5d9-9472-41ef-9b19-1792c5ec0dfa",
   "metadata": {},
   "source": [
    "or via the asynchronous calls from the specified client"
   ]
  },
  {
   "cell_type": "code",
   "execution_count": null,
   "id": "dde346df-5569-4035-b729-c16b90adf427",
   "metadata": {},
   "outputs": [],
   "source": [
    "jlclient2.compute(da)"
   ]
  },
  {
   "cell_type": "markdown",
   "id": "a0911732-2b09-4f68-ad9e-2fb827346d82",
   "metadata": {},
   "source": [
    "In addition, non default clients can be selected temporarily as"
   ]
  },
  {
   "cell_type": "code",
   "execution_count": null,
   "id": "1d9a5d5c-9273-4dc0-8106-2d2604668978",
   "metadata": {},
   "outputs": [],
   "source": [
    "with dask.distributed.Client.as_current(jlclient2):\n",
    "    with joblib.parallel_backend(backend=\"dask\",client=dask.distributed.Client.current()):\n",
    "        parallel = Parallel(verbose=100)\n",
    "        print(parallel([delayed(slow_power)(i, 5) for i in range(10)]))\n",
    "    "
   ]
  }
 ],
 "metadata": {
  "kernelspec": {
   "display_name": "mobylepy310",
   "language": "python",
   "name": "mobylepy310"
  },
  "language_info": {
   "codemirror_mode": {
    "name": "ipython",
    "version": 3
   },
   "file_extension": ".py",
   "mimetype": "text/x-python",
   "name": "python",
   "nbconvert_exporter": "python",
   "pygments_lexer": "ipython3",
   "version": "3.10.6"
  }
 },
 "nbformat": 4,
 "nbformat_minor": 5
}
